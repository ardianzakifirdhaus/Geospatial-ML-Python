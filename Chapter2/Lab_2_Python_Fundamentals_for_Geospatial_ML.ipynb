{
  "nbformat": 4,
  "nbformat_minor": 0,
  "metadata": {
    "colab": {
      "provenance": []
    },
    "kernelspec": {
      "name": "python3",
      "display_name": "Python 3"
    },
    "language_info": {
      "name": "python"
    }
  },
  "cells": [
    {
      "cell_type": "markdown",
      "source": [
        "# Lab 2: Python Fundamentals for Geospatial Machine Learning\n",
        "## Overview\n",
        "In this lab, participants will be introduced to the foundational concepts of Python programming, tailored specifically for geospatial machine learning applications. The lab will focus on building core Python skills for handling geospatial data, developing machine learning models, and automating workflows. Participants will learn Python's syntax, data structures, and key libraries commonly used in geospatial and machine learning tasks through hands-on exercises and examples.\n",
        "\n",
        "### Learning objectives\n",
        "By the end of lab 2, participants will be able to:\n",
        "- Write Python scripts using essential syntax, variables, and operators.\n",
        "- Work with different data types and structures such as lists, tuples, dictionaries, and arrays.\n",
        "- Explore Python's standard libraries and their applications in data manipulation.\n",
        "\n"
      ],
      "metadata": {
        "id": "5a4GzKI-K7Px"
      }
    },
    {
      "cell_type": "markdown",
      "source": [
        "## Introduction to Python\n",
        "Python has become a cornerstone language for geospatial machine learning due to its versatility, simplicity, and an extensive ecosystem of libraries. Its open-source nature and active community make it a preferred choice for both beginners and advanced practitioners."
      ],
      "metadata": {
        "id": "xmyW0pWsVwbP"
      }
    },
    {
      "cell_type": "markdown",
      "source": [
        "## Variables, data types, and basic operations\n",
        "### Variables\n",
        "Variables are containers used to store data values, allowing you to work with them later in your program. You can create a variable by assigning a value to a name using the `=` operator. For example, `x = 10` assigns the value `10` to the variable `x`.\n",
        "\n",
        "##### Naming variables\n",
        "When naming variables in Python, it is important to follow these rules to ensure clarity and maintain coding standards:\n",
        "\n",
        "(1) Use descriptive names\n",
        "- Choose names that clearly describe the variable's purpose (e.g., land_cover_type instead of lct).\n",
        "\n",
        "(2) Follow 'snake' or 'camel' Case convention:\n",
        "- Use lowercase letters separated by underscores for readability (e.g., total_area, totalArea).\n",
        "\n",
        "(3) Avoid reserved words\n",
        "- Do not use Python keywords or built-in function names as variable names (e.g.,if, print,class, object etc).\n",
        "\n",
        "(4) Start with a letter or underscore:\n",
        "- Variable names must begin with a letter (a-z, A-Z) or an underscore (_) but cannot start with a number.\n",
        "\n",
        "(5) Use only alphanumeric characters and underscores\n",
        "- Variable names can include letters, numbers, and underscores but no spaces or special characters.\n",
        "\n",
        "(6) Be consistent\n",
        "- Maintain a consistent naming style throughout your code for better readability and organization."
      ],
      "metadata": {
        "id": "g7_70mZPQFo4"
      }
    },
    {
      "cell_type": "code",
      "source": [
        "# Variables\n",
        "country_name = \"Zimbabwe\"  # The variable 'name' stores the string \"Zimbabwe\""
      ],
      "metadata": {
        "id": "bRjB9j1nWB_s"
      },
      "execution_count": null,
      "outputs": []
    },
    {
      "cell_type": "markdown",
      "source": [
        "#### Naming variables\n",
        "When naming variables in Python, it is important to follow these rules to ensure clarity and maintain coding standards:\n",
        "\n",
        "- Use descriptive names\n",
        "Choose names that clearly describe the variable's purpose (e.g., land_cover_type instead of lct).\n",
        "\n",
        "- Follow 'snake' or 'camel' Case convention:\n",
        "Use lowercase letters separated by underscores for readability (e.g., total_area, totalArea).\n",
        "\n",
        "- Avoid reserved words\n",
        "Do not use Python keywords or built-in function names as variable names (e.g.,if, print,class, object etc).\n",
        "\n",
        "- Start with a letter or underscore:\n",
        "Variable names must begin with a letter (a-z, A-Z) or an underscore (_) but cannot start with a number.\n",
        "\n",
        "- Use only alphanumeric characters and underscores\n",
        "Variable names can include letters, numbers, and underscores but no spaces or special characters.\n",
        "\n",
        "Be consistent\n",
        "Maintain a consistent naming style throughout your code for better readability and organization."
      ],
      "metadata": {
        "id": "W3RFieGtnuOR"
      }
    },
    {
      "cell_type": "markdown",
      "source": [
        "###  Data types\n",
        "Data types in Python define the kind of data a variable can hold. Common data types include integers (`int`), floating-point numbers (`float`), strings (`str`), and booleans (`bool`). Python also supports complex data types like lists, tuples, dictionaries, and sets, which are used for more advanced data handling.\n",
        "\n"
      ],
      "metadata": {
        "id": "2Izt9HwxX2Sc"
      }
    },
    {
      "cell_type": "markdown",
      "source": [
        "#### Integer (int)\n",
        "An integer is a whole number, positive or negative, without any fractional or decimal part. In Python, integers can be of any size, limited only by the memory of your system."
      ],
      "metadata": {
        "id": "MieyBtLpb2oM"
      }
    },
    {
      "cell_type": "code",
      "source": [
        "# Integer\n",
        "age = 25\n",
        "print(age)"
      ],
      "metadata": {
        "id": "AbSpcgOQb6Tl",
        "colab": {
          "base_uri": "https://localhost:8080/"
        },
        "outputId": "a7832a35-3353-4d0d-e451-3d545dca0bf4"
      },
      "execution_count": null,
      "outputs": [
        {
          "output_type": "stream",
          "name": "stdout",
          "text": [
            "25\n"
          ]
        }
      ]
    },
    {
      "cell_type": "markdown",
      "source": [
        "#### Float (float)\n",
        "A float represents a number that contains a decimal point or is expressed in exponential (scientific) notation. It is used for more precise calculations involving fractions or large ranges of numbers.\n"
      ],
      "metadata": {
        "id": "PaI2vvejb8Ue"
      }
    },
    {
      "cell_type": "code",
      "source": [
        "# Float\n",
        "elevation = 5.8\n",
        "print(elevation)"
      ],
      "metadata": {
        "id": "RRkmCMOWb_x6",
        "colab": {
          "base_uri": "https://localhost:8080/"
        },
        "outputId": "3323c741-0737-4b2e-f6d8-585ffe4cb5dc"
      },
      "execution_count": null,
      "outputs": [
        {
          "output_type": "stream",
          "name": "stdout",
          "text": [
            "5.8\n"
          ]
        }
      ]
    },
    {
      "cell_type": "markdown",
      "source": [
        "#### String (str)\n",
        "A string is a sequence of characters enclosed within single (') or double (\") quotes. Strings are used to represent text data in Python. They can include letters, numbers, symbols, and spaces."
      ],
      "metadata": {
        "id": "mmCmgIagcBma"
      }
    },
    {
      "cell_type": "code",
      "source": [
        " # string\n",
        "city = \"Harare\"\n",
        "print(city)"
      ],
      "metadata": {
        "id": "6HKjKv0mcGBR",
        "colab": {
          "base_uri": "https://localhost:8080/"
        },
        "outputId": "ec957b19-2bc5-4e5c-a002-f00f919c8957"
      },
      "execution_count": null,
      "outputs": [
        {
          "output_type": "stream",
          "name": "stdout",
          "text": [
            "Harare\n"
          ]
        }
      ]
    },
    {
      "cell_type": "markdown",
      "source": [
        "Multiline strings in Python are string that span across multiple lines. They are typically enclosed within triple quotes (\"\"\" or '''). These strings are especially helpful when you want to maintain formatting (such as new lines or paragraphs) or when writing lengthy SQL queries or other multi-line text."
      ],
      "metadata": {
        "id": "v1BYGfnoSLZK"
      }
    },
    {
      "cell_type": "code",
      "source": [
        "# Multiline string example\n",
        "info = \"\"\"\n",
        "What is the capital city of Zimbabwe?\n",
        "The capital city of Zimbabwe is Harare.\n",
        "\n",
        "Where is the capital city of Zimbabwe located?\n",
        "Harare is located in the northern part of Zimbabwe.\n",
        "It is situated on the central plateau at an elevation of approximately 1,483 meters (4,865 feet) above sea level.\n",
        "\"\"\"\n",
        "\n",
        "# Print the multiline string\n",
        "print(info)"
      ],
      "metadata": {
        "colab": {
          "base_uri": "https://localhost:8080/"
        },
        "id": "R-SoMR8_T5ER",
        "outputId": "090d5113-bb24-46f6-d843-50863f53c5c7"
      },
      "execution_count": null,
      "outputs": [
        {
          "output_type": "stream",
          "name": "stdout",
          "text": [
            "\n",
            "What is the capital city of Zimbabwe?\n",
            "The capital city of Zimbabwe is Harare.\n",
            "\n",
            "Where is the capital city of Zimbabwe located?\n",
            "Harare is located in the northern part of Zimbabwe. \n",
            "It is situated on the central plateau at an elevation of approximately 1,483 meters (4,865 feet) above sea level.\n",
            "\n"
          ]
        }
      ]
    },
    {
      "cell_type": "markdown",
      "source": [
        "#### Boolean (bool)\n",
        "A boolean represents one of two values: True or False. Booleans are often used in conditions and comparisons to control program flow or decision-making. For example, the variable 'is_within_boundaries' represents whether a geographic point or feature falls within a specific region (e.g., a study area or administrative boundary).\n"
      ],
      "metadata": {
        "id": "VaTdaG6fcJb0"
      }
    },
    {
      "cell_type": "code",
      "source": [
        "# Boolean example for a geographic context\n",
        "is_within_boundaries = True  # Example: Whether a location is within a specified area\n",
        "print(\"Is the point within the study area boundaries?\")\n",
        "print(is_within_boundaries)"
      ],
      "metadata": {
        "colab": {
          "base_uri": "https://localhost:8080/"
        },
        "id": "eYD24cf8YAYT",
        "outputId": "2d1b2129-227f-424b-c60c-1f334ff62364"
      },
      "execution_count": null,
      "outputs": [
        {
          "output_type": "stream",
          "name": "stdout",
          "text": [
            "Is the point within the study area boundaries?\n",
            "True\n"
          ]
        }
      ]
    },
    {
      "cell_type": "markdown",
      "source": [
        "This can later be used in conditional checks or logical operations when analyzing spatial data."
      ],
      "metadata": {
        "id": "81VZmxZLVSbb"
      }
    },
    {
      "cell_type": "code",
      "source": [
        "if is_within_boundaries:\n",
        "    print(\"The location is valid for analysis.\")\n",
        "else:\n",
        "    print(\"The location is outside the study area.\")"
      ],
      "metadata": {
        "colab": {
          "base_uri": "https://localhost:8080/"
        },
        "id": "8Illn4J9VWgG",
        "outputId": "8a488609-8cda-4a4c-8c22-35df6a8f481c"
      },
      "execution_count": null,
      "outputs": [
        {
          "output_type": "stream",
          "name": "stdout",
          "text": [
            "The location is valid for analysis.\n"
          ]
        }
      ]
    },
    {
      "cell_type": "markdown",
      "source": [
        "### Basic operations\n",
        "Basic Operations in Python allow manipulation of data. Arithmetic operations include addition (`+`), subtraction (`-`), multiplication (`*`), and division (`/`). Python also supports comparison operators (`==`, `<`, `>`) and logical operators (`and`, `or`, `not`) for conditional expressions. For instance, `x + y` adds two variables, while `x > y` evaluates whether `x` is greater than `y`. Mastering these fundamentals is essential for performing calculations, logical reasoning, and building more complex Python programs."
      ],
      "metadata": {
        "id": "OEhKUSQ-bmF8"
      }
    },
    {
      "cell_type": "markdown",
      "source": [
        "#### Arithmetic operations\n",
        "These operations perform basic mathematical calculations (addition, Subtraction, multiplication, division). For example, adding two numbers.\n"
      ],
      "metadata": {
        "id": "oE2II69ibwX2"
      }
    },
    {
      "cell_type": "code",
      "source": [
        "# Addition\n",
        "result1 = 5 + 3\n",
        "print(result1)"
      ],
      "metadata": {
        "colab": {
          "base_uri": "https://localhost:8080/"
        },
        "id": "HxCUGjlpbo4W",
        "outputId": "c5b79072-79d4-4caa-d059-90594d0ccc08"
      },
      "execution_count": null,
      "outputs": [
        {
          "output_type": "stream",
          "name": "stdout",
          "text": [
            "8\n"
          ]
        }
      ]
    },
    {
      "cell_type": "markdown",
      "source": [
        "Below a simple geographic example using arithmetic operations to calculate the total and average area of several countries."
      ],
      "metadata": {
        "id": "rg0GAk2eYhMs"
      }
    },
    {
      "cell_type": "code",
      "source": [
        "# Calculating total and average aand area\n",
        "# Land area of countries (in square kilometers)\n",
        "land_areas = {\n",
        "    \"Zimbabwe\": 390757,\n",
        "    \"South Africa\": 1219090,\n",
        "    \"Botswana\": 581730,\n",
        "    \"Namibia\": 825615\n",
        "}\n",
        "\n",
        "# Arithmetic operations\n",
        "total_area = sum(land_areas.values())  # Calculate the total area\n",
        "average_area = total_area / len(land_areas)  # Calculate the average area\n",
        "\n",
        "# Print results\n",
        "print(f\"Total land area: {total_area:,} square kilometers\")\n",
        "print(f\"Average land area: {average_area:,.2f} square kilometers\")"
      ],
      "metadata": {
        "colab": {
          "base_uri": "https://localhost:8080/"
        },
        "id": "6H0p6cPLYkOK",
        "outputId": "3ce9ac46-e19a-4dc6-e50b-62ec141bb2d1"
      },
      "execution_count": null,
      "outputs": [
        {
          "output_type": "stream",
          "name": "stdout",
          "text": [
            "Total land area: 3,017,192 square kilometers\n",
            "Average land area: 754,298.00 square kilometers\n"
          ]
        }
      ]
    },
    {
      "cell_type": "markdown",
      "source": [
        "#### Comparison operators\n",
        "Comparison operators are used to compare two values and return a Boolean result: True if the condition is met, or False otherwise. These include == (equal to) and != (not equal to) for equality checks, as well as >, <, >=, and <= for comparing magnitudes. They are widely used for decision-making and logical expressions in programs. For example, they can determine whether a value exceeds a threshold or falls within a specific range."
      ],
      "metadata": {
        "id": "lXj4kiPehsAH"
      }
    },
    {
      "cell_type": "code",
      "source": [
        "# List of elevations (in meters) for different locations\n",
        "elevations = [450, 1200, 950, 1800, 3000, 650]\n",
        "\n",
        "# Threshold elevation (in meters)\n",
        "threshold = 1000\n",
        "\n",
        "# Use comparison operators to check which locations are above the threshold\n",
        "above_threshold = [elevation > threshold for elevation in elevations]\n",
        "\n",
        "# Use comparison operators to find the maximum elevation and compare with a value\n",
        "highest_elevation = max(elevations)\n",
        "is_highest_extreme = highest_elevation > 2500\n",
        "\n",
        "# Print results\n",
        "print(\"Elevations:\", elevations)\n",
        "print(f\"Threshold: {threshold} meters\")\n",
        "print(\"Locations above the threshold:\", above_threshold)\n",
        "print(f\"Highest elevation ({highest_elevation} meters) is extreme:\", is_highest_extreme)"
      ],
      "metadata": {
        "colab": {
          "base_uri": "https://localhost:8080/"
        },
        "id": "DU4PPIoKXe3U",
        "outputId": "08c00eb0-938b-4b6e-d727-8ddccbcb291c"
      },
      "execution_count": null,
      "outputs": [
        {
          "output_type": "stream",
          "name": "stdout",
          "text": [
            "Elevations: [450, 1200, 950, 1800, 3000, 650]\n",
            "Threshold: 1000 meters\n",
            "Locations above the threshold: [False, True, False, True, True, False]\n",
            "Highest elevation (3000 meters) is extreme: True\n"
          ]
        }
      ]
    },
    {
      "cell_type": "markdown",
      "source": [
        "#### Logical operators\n",
        "Python provides three logical operators: and, or, and not. The and operator returns True if both conditions are True, such as in x > 10 and y < 20. The or operator returns True if at least one condition is True, as in x > 10 or y < 20. Lastly, the not operator reverses the result of a condition, returning True if the condition is False, as seen in not (x > 10). These operators are fundamental for combining and evaluating multiple logical conditions in decision-making processes.\n",
        "\n",
        "Below is a simple geographic example using logical operators to determine whether a location meets specific criteria based on elevation and temperature."
      ],
      "metadata": {
        "id": "bjdqci6Yi_RI"
      }
    },
    {
      "cell_type": "code",
      "source": [
        "# Geographic data\n",
        "elevation = 800  # in meters\n",
        "temperature = 22  # in degrees Celsius\n",
        "\n",
        "# Criteria for suitability\n",
        "is_suitable_elevation = elevation > 500 and elevation < 1500  # Elevation between 500m and 1500m\n",
        "is_suitable_temperature = temperature > 15 or temperature < 25  # Temperature within a comfortable range\n",
        "is_not_extreme = not (elevation > 3000 or temperature < 0)  # Not extreme conditions\n",
        "\n",
        "# Final suitability check\n",
        "is_location_suitable = is_suitable_elevation and is_suitable_temperature and is_not_extreme\n",
        "\n",
        "# Print results\n",
        "print(f\"Suitable elevation: {is_suitable_elevation}\")\n",
        "print(f\"Suitable temperature: {is_suitable_temperature}\")\n",
        "print(f\"Not extreme conditions: {is_not_extreme}\")\n",
        "print(f\"Is the location suitable? {is_location_suitable}\")"
      ],
      "metadata": {
        "colab": {
          "base_uri": "https://localhost:8080/"
        },
        "id": "iH3-ZJ-GZ3rX",
        "outputId": "57d7329a-3028-450c-ef47-f00529bac4b8"
      },
      "execution_count": null,
      "outputs": [
        {
          "output_type": "stream",
          "name": "stdout",
          "text": [
            "Suitable elevation: True\n",
            "Suitable temperature: True\n",
            "Not extreme conditions: True\n",
            "Is the location suitable? True\n"
          ]
        }
      ]
    },
    {
      "cell_type": "markdown",
      "source": [
        "### Control structures: Loops and conditionals\n",
        "Control structures in Python are fundamental tools that allow developers to control the flow of a program. They enable decision-making (conditionals) and repetitive execution (loops), making programs dynamic and efficient. For example, we can use loops and conditional statements to help categorize elevation.\n"
      ],
      "metadata": {
        "id": "1MQZEsWoknEd"
      }
    },
    {
      "cell_type": "code",
      "source": [
        "# List of elevation points (in meters) for different locations\n",
        "elevations = [450, 1200, 200, 950, 1800, 3000]\n",
        "\n",
        "# Loop through elevations and categorize them\n",
        "for elevation in elevations:\n",
        "    if elevation < 500:\n",
        "        category = \"Lowland\"\n",
        "    elif 500 <= elevation < 1500:\n",
        "        category = \"Upland\"\n",
        "    elif 1500 <= elevation < 2500:\n",
        "        category = \"Highland\"\n",
        "    else:\n",
        "        category = \"Mountain\"\n",
        "\n",
        "    # Print the elevation and its category\n",
        "    print(f\"Elevation: {elevation} m - Category: {category}\")"
      ],
      "metadata": {
        "colab": {
          "base_uri": "https://localhost:8080/"
        },
        "id": "jMg8Imb-ZqtZ",
        "outputId": "dd292364-c88f-43ed-c383-8b3b7f5187d9"
      },
      "execution_count": null,
      "outputs": [
        {
          "output_type": "stream",
          "name": "stdout",
          "text": [
            "Elevation: 450 m - Category: Lowland\n",
            "Elevation: 1200 m - Category: Upland\n",
            "Elevation: 200 m - Category: Lowland\n",
            "Elevation: 950 m - Category: Upland\n",
            "Elevation: 1800 m - Category: Highland\n",
            "Elevation: 3000 m - Category: Mountain\n"
          ]
        }
      ]
    },
    {
      "cell_type": "markdown",
      "source": [
        "- Notes\n",
        "\n",
        "Python provides two main types of loops: the for loop, which iterates over a sequence like lists or strings, and the while loop, which continues execution as long as a specified condition is True. For decision-making, Python uses conditional statements such as if, if-else, and if-elif-else to execute specific blocks of code based on conditions, with nested if statements allowing for more complex logic. These loops and conditional constructs are fundamental for controlling program flow, enabling dynamic and efficient execution of repetitive tasks and logical decisions."
      ],
      "metadata": {
        "id": "iuDBOIn3acL1"
      }
    },
    {
      "cell_type": "markdown",
      "source": [
        "### Data Structures: Lists, Dictionaries, and Tuples\n",
        "Data structures in Python are used to organize and store data efficiently. Among the most commonly used are lists, dictionaries, and tuples, each with distinct properties and use cases."
      ],
      "metadata": {
        "id": "7JOByTH5ozZ_"
      }
    },
    {
      "cell_type": "markdown",
      "source": [
        "#### Lists\n",
        "A list is a collection of ordered, mutable items, which means you can modify its contents after creation. Lists are defined using square brackets ([ ]) and can hold elements of any data type, including other lists.\n",
        "\n",
        "Features of lists:\n",
        "\n",
        "- Ordered - Elements are stored in the order they are added.\n",
        "- Mutable - You can add, remove, or modify elements.\n",
        "- Allow duplicates -Lists can contain duplicate elements."
      ],
      "metadata": {
        "id": "JUN1jZH4o12c"
      }
    },
    {
      "cell_type": "code",
      "source": [
        "# List of cities in Zimbabwe\n",
        "cities = [\"Harare\", \"Bulawayo\", \"Mutare\", \"Gweru\"]\n",
        "\n",
        "# Add a city to the list\n",
        "cities.append(\"Victoria Falls\")\n",
        "\n",
        "# Access and print the second city\n",
        "print(\"Second city:\", cities[1])\n",
        "\n",
        "# Print the complete list\n",
        "print(\"Cities:\", cities)"
      ],
      "metadata": {
        "id": "d7bkFtsRo1CR",
        "colab": {
          "base_uri": "https://localhost:8080/"
        },
        "outputId": "8eab105c-955c-4c55-8410-a20af19ea0b0"
      },
      "execution_count": null,
      "outputs": [
        {
          "output_type": "stream",
          "name": "stdout",
          "text": [
            "Second city: Bulawayo\n",
            "Cities: ['Harare', 'Bulawayo', 'Mutare', 'Gweru', 'Victoria Falls']\n"
          ]
        }
      ]
    },
    {
      "cell_type": "markdown",
      "source": [
        "#### Dictionaries\n",
        "A dictionary is a collection of key-value pairs, where each key is unique, and each key maps to a value. Dictionaries are defined using curly braces ({}).\n",
        "\n",
        "Features of dictionaries:\n",
        "\n",
        "- Unordered - Elements are not stored in a specific order (though Python 3.7+ maintains insertion order).\n",
        "- Mutable - You can add, modify, or remove key-value pairs.\n",
        "- Keys are unique - Duplicate keys are not allowed."
      ],
      "metadata": {
        "id": "EW9feOXSpoMX"
      }
    },
    {
      "cell_type": "code",
      "source": [
        "# Dictionary of city and its population\n",
        "city_population = {\n",
        "    \"Harare\": 1500000,\n",
        "    \"Bulawayo\": 650000,\n",
        "    \"Mutare\": 300000,\n",
        "    \"Gweru\": 160000\n",
        "}\n",
        "\n",
        "# Print city populations with formatted numbers\n",
        "for city, population in city_population.items():\n",
        "    print(f\"{city}: {population:,}\")\n",
        "\n",
        "# Add a new city with its population\n",
        "city_population[\"Victoria Falls\"] = 35000\n",
        "\n",
        "# Print the updated dictionary with formatted numbers\n",
        "print(\"\\nUpdated city populations:\")\n",
        "for city, population in city_population.items():\n",
        "    print(f\"{city}: {population:,}\")"
      ],
      "metadata": {
        "id": "EhnecEKVp6qc",
        "colab": {
          "base_uri": "https://localhost:8080/"
        },
        "outputId": "719f4ab7-b044-4d9c-ac90-328b9f9fa3c5"
      },
      "execution_count": null,
      "outputs": [
        {
          "output_type": "stream",
          "name": "stdout",
          "text": [
            "Harare: 1,500,000\n",
            "Bulawayo: 650,000\n",
            "Mutare: 300,000\n",
            "Gweru: 160,000\n",
            "\n",
            "Updated city populations:\n",
            "Harare: 1,500,000\n",
            "Bulawayo: 650,000\n",
            "Mutare: 300,000\n",
            "Gweru: 160,000\n",
            "Victoria Falls: 35,000\n"
          ]
        }
      ]
    },
    {
      "cell_type": "markdown",
      "source": [
        "#### Tuples\n",
        "A tuple is an ordered, immutable collection of elements. Once created, the elements of a tuple cannot be changed. Tuples are defined using parentheses (()).\n",
        "\n",
        "Features of tuples\n",
        "\n",
        "- Ordered - Elements maintain the order they were added.\n",
        "- Immutable - Elements cannot be modified after creation.\n",
        "- Allow duplicates -Tuples can contain duplicate elements.\n",
        "- Efficient - Tuples consume less memory and are faster than lists for read-only operations."
      ],
      "metadata": {
        "id": "i65mHHTNqV3j"
      }
    },
    {
      "cell_type": "code",
      "source": [
        "# Creating a tuple\n",
        "coordinates = (10.5, 20.3, 30.7)\n",
        "\n",
        "# Accessing elements\n",
        "print(coordinates[1])\n",
        "\n",
        "# Attempting to modify a tuple (raises an error)\n",
        "# coordinates[1] = 25.0  # TypeError: 'tuple' object does not support item assignment\n",
        "\n",
        "# Unpacking a tuple\n",
        "x, y, z = coordinates\n",
        "print(x, y, z)\n",
        "\n",
        "# Using tuples in functions\n",
        "def get_dimensions():\n",
        "    return (1920, 1080)\n",
        "width, height = get_dimensions()\n",
        "print(f\"Width: {width}, Height: {height}\")"
      ],
      "metadata": {
        "id": "2u-tcrlAqiCT",
        "colab": {
          "base_uri": "https://localhost:8080/"
        },
        "outputId": "42f9d01e-967f-45b9-ea9c-7c69d30cebf1"
      },
      "execution_count": null,
      "outputs": [
        {
          "output_type": "stream",
          "name": "stdout",
          "text": [
            "20.3\n",
            "10.5 20.3 30.7\n",
            "Width: 1920, Height: 1080\n"
          ]
        }
      ]
    },
    {
      "cell_type": "markdown",
      "source": [
        "### Writing and importing functions and modules\n",
        "Functions and modules are fundamental for organizing and reusing code in Python. Functions are blocks of reusable code, while modules group related functions, variables, and classes into separate files"
      ],
      "metadata": {
        "id": "dsjEwPmWuOXk"
      }
    },
    {
      "cell_type": "markdown",
      "source": [
        "#### Functions\n",
        "A function is a block of reusable code that performs a specific task. In Python, functions are categorized based on their purpose and usage. We will focus on built-in and user-define functions.\n",
        "\n",
        "###### Built-in Functions\n",
        "\n",
        "Python comes with a rich set of built-in functions that are ready to use without any imports. Examples include:\n",
        "- Mathematical functions: abs(), round(), pow()\n",
        "- Type conversion functions: int(), float(), str()\n",
        "- Data structure functions: len(), sum(), max(), min()"
      ],
      "metadata": {
        "id": "uQ2XmFu9uVhu"
      }
    },
    {
      "cell_type": "code",
      "source": [
        "# List of elevations (in meters) for various locations\n",
        "elevations = [450, 1200, 950, 1800, 3000, 650]\n",
        "\n",
        "# Use built-in functions to analyze the elevation data\n",
        "highest_elevation = max(elevations)  # Find the maximum elevation\n",
        "lowest_elevation = min(elevations)  # Find the minimum elevation\n",
        "total_locations = len(elevations)   # Count the number of locations\n",
        "average_elevation = sum(elevations) / total_locations  # Calculate the average elevation\n",
        "\n",
        "# Print the results\n",
        "print(f\"Highest elevation: {highest_elevation} meters\")\n",
        "print(f\"Lowest elevation: {lowest_elevation} meters\")\n",
        "print(f\"Number of locations: {total_locations}\")\n",
        "print(f\"Average elevation: {average_elevation:.2f} meters\")\n",
        "\n",
        "type(elevations)"
      ],
      "metadata": {
        "colab": {
          "base_uri": "https://localhost:8080/"
        },
        "id": "WIDnhsLTdbhp",
        "outputId": "eb3b1a07-05ec-4d88-8f01-054c4fbe1bb7"
      },
      "execution_count": null,
      "outputs": [
        {
          "output_type": "stream",
          "name": "stdout",
          "text": [
            "Highest elevation: 3000 meters\n",
            "Lowest elevation: 450 meters\n",
            "Number of locations: 6\n",
            "Average elevation: 1341.67 meters\n"
          ]
        },
        {
          "output_type": "execute_result",
          "data": {
            "text/plain": [
              "list"
            ]
          },
          "metadata": {},
          "execution_count": 26
        }
      ]
    },
    {
      "cell_type": "markdown",
      "source": [
        "###### User-defined Functions\n",
        "\n",
        "These are functions that you define yourself to perform specific tasks."
      ],
      "metadata": {
        "id": "Fiz7dcjAdxBZ"
      }
    },
    {
      "cell_type": "code",
      "source": [
        "# Define a function to calculate the area of a plot\n",
        "def calculate_area(length, width):\n",
        "    \"\"\"\n",
        "    Calculate the area of a rectangular region in square meters.\n",
        "    \"\"\"\n",
        "    return length * width\n",
        "\n",
        "# Example usage\n",
        "plot_length = 50  # in meters\n",
        "plot_width = 30   # in meters\n",
        "\n",
        "area = calculate_area(plot_length, plot_width)\n",
        "print(f\"The area of the plot is: {area} square meters\")"
      ],
      "metadata": {
        "colab": {
          "base_uri": "https://localhost:8080/"
        },
        "id": "zm48II5qd516",
        "outputId": "1bd83199-dcc2-45e1-9c21-b7650bd3bba7"
      },
      "execution_count": null,
      "outputs": [
        {
          "output_type": "stream",
          "name": "stdout",
          "text": [
            "The area of the plot is: 1500 square meters\n"
          ]
        }
      ]
    },
    {
      "cell_type": "markdown",
      "source": [
        "#### Using built-in modules\n",
        "A module is a single file that contains Python code, including functions, classes, and variables. It can also include runnable code. Modules are designed to organize code into reusable and logical units. Python has numerous built-in modules like math, os, and datetime, and third-party modules like numpy and pandas.\n",
        "\n",
        "Below is an example of using Python's built-in math module, which provides mathematical functions like:\n",
        "- radians: Converts degrees to radians.\n",
        "- sin, cos: Trigonometric functions.\n",
        "- sqrt: Calculates the square root.\n",
        "- atan2: Computes the angle in radians."
      ],
      "metadata": {
        "id": "LydIlx50v7nb"
      }
    },
    {
      "cell_type": "code",
      "source": [
        "# Using an built-in module\n",
        "from math import radians, sin, cos, sqrt, atan2\n",
        "\n",
        "# Define a function to calculate the great-circle distance between two coordinates\n",
        "def calculate_distance(lat1, lon1, lat2, lon2):\n",
        "    \"\"\"\n",
        "    Calculate the distance between two points (lat1, lon1) and (lat2, lon2) in kilometers.\n",
        "    \"\"\"\n",
        "    # Radius of the Earth in kilometers\n",
        "    R = 6371.0\n",
        "\n",
        "    # Convert latitude and longitude from degrees to radians\n",
        "    lat1, lon1, lat2, lon2 = map(radians, [lat1, lon1, lat2, lon2])\n",
        "\n",
        "    # Differences in coordinates\n",
        "    dlat = lat2 - lat1\n",
        "    dlon = lon2 - lon1\n",
        "\n",
        "    # Haversine formula\n",
        "    a = sin(dlat / 2)**2 + cos(lat1) * cos(lat2) * sin(dlon / 2)**2\n",
        "    c = 2 * atan2(sqrt(a), sqrt(1 - a))\n",
        "    distance = R * c\n",
        "\n",
        "    return distance\n",
        "\n",
        "# Example usage\n",
        "harare_coords = (-17.8252, 31.0335)  # Harare, Zimbabwe\n",
        "bulawayo_coords = (-20.1500, 28.5833)  # Bulawayo, Zimbabwe\n",
        "\n",
        "distance = calculate_distance(harare_coords[0], harare_coords[1], bulawayo_coords[0], bulawayo_coords[1])\n",
        "print(f\"Distance between Harare and Bulawayo: {distance:.2f} km\")"
      ],
      "metadata": {
        "colab": {
          "base_uri": "https://localhost:8080/"
        },
        "id": "S86bP5Pky18-",
        "outputId": "c0e2d1ae-376d-455d-83d0-73011d68c9a1"
      },
      "execution_count": null,
      "outputs": [
        {
          "output_type": "stream",
          "name": "stdout",
          "text": [
            "4.0\n",
            "3.141592653589793\n"
          ]
        }
      ]
    },
    {
      "cell_type": "markdown",
      "source": [
        "### Library\n",
        "A library is a collection of modules packaged together to provide a specific set of functionalities. Libraries can range from a few modules to hundreds of them, designed to help developers perform tasks without having to write code from scratch. For example, NumPy is a library for numerical computations, containing numerous modules. You can use functions from the NumPy library after installing and importing it.\n",
        "\n",
        "In the example below, elevations are stored in a NumPy array, which allows for efficient numerical computation and manipulation. The np.mean() function is used to calculate the average elevation."
      ],
      "metadata": {
        "id": "0ec8BeLpzrc3"
      }
    },
    {
      "cell_type": "code",
      "source": [
        "# Import numpy\n",
        "import numpy as np\n",
        "\n",
        "# Array of elevations (in meters) for various locations\n",
        "elevations = np.array([450, 1200, 950, 1800, 3000, 650])\n",
        "\n",
        "# Calculate the average elevation\n",
        "average_elevation = np.mean(elevations)\n",
        "\n",
        "# Print results\n",
        "print(f\"Average elevation: {average_elevation:.2f} meters\")"
      ],
      "metadata": {
        "colab": {
          "base_uri": "https://localhost:8080/"
        },
        "id": "K1XTx99uz3Fi",
        "outputId": "658e4ba6-fe57-40a9-d30a-355193fa1276"
      },
      "execution_count": null,
      "outputs": [
        {
          "output_type": "stream",
          "name": "stdout",
          "text": [
            "Average elevation: 1341.67 meters\n"
          ]
        }
      ]
    },
    {
      "cell_type": "markdown",
      "source": [
        "## Best practices for functions and modules\n",
        "- Use descriptive names for functions and modules.\n",
        "- Write docstrings to describe what the function/module does.\n",
        "- Avoid circular imports by structuring code logically.\n",
        "- Reuse and modularize code into smaller modules for better readability and maintainability.\n",
        "- By mastering functions and modules, you can build scalable and efficient Python applications"
      ],
      "metadata": {
        "id": "fW3Fg2tlGaRQ"
      }
    },
    {
      "cell_type": "markdown",
      "source": [
        "By C Kamusoko\n",
        "\n",
        "© Copyright 2024."
      ],
      "metadata": {
        "id": "Y50FkkY_hzmy"
      }
    }
  ]
}