{
  "nbformat": 4,
  "nbformat_minor": 0,
  "metadata": {
    "colab": {
      "provenance": []
    },
    "kernelspec": {
      "name": "python3",
      "display_name": "Python 3"
    },
    "language_info": {
      "name": "python"
    }
  },
  "cells": [
    {
      "cell_type": "markdown",
      "source": [
        "# Geospatial Machine Learning with Python: An Introductory Guide\n",
        "- Module 1: Geospatial Machine Learning with Python\n",
        "- Module 2: Python Fundamentals for Geospatial Machine Learning\n",
        "- Module 3: Machine Learning Fundamentals\n",
        "- Module 4: Preparing Data for Geospatial Machine Learning\n",
        "- Module 5: Machine Learning for Land Cover Classification\n",
        "- Module 6: Machine Learning for Regression Analysis (AGBD)\n",
        "- Module 7: Machine Learning Model Selection, Tuning, and Validation\n",
        "- Module 8: Fine-Tune Machine Learning Models\n",
        "- Module 9: Explainable Machine Learning in Geospatial Analysis\n",
        "- Module 10: Scaling Geospatial Machine Learning Workflows"
      ],
      "metadata": {
        "id": "5a4GzKI-K7Px"
      }
    },
    {
      "cell_type": "markdown",
      "source": [
        "## Module 1: Geospatial Machine Learning with Python\n",
        "### Key Python libraries\n",
        "Python offers a powerful ecosystem of libraries specifically designed for geospatial data analysis and machine learning. Some of the most influential libraries include:\n",
        "- Rasterio\n",
        "Focused on raster data input and output, Rasterio simplifies reading, writing, and transforming raster data formats. It supports integration with machine learning pipelines where raster data, such as multispectral satellite images, serve as input.\n",
        "       \n",
        "- Earthpy\n",
        "EarthPy is a Python package designed to simplify working with spatial and remote sensing data. It provides tools for efficient manipulation, analysis, and visualization of geospatial information.\n",
        "       \n",
        "- Scikit-learn\n",
        "Known for its versatility, Scikit-learn supports core machine learning tasks such as:\n",
        "        - Data preprocessing (e.g., normalization, encoding categorical data).\n",
        "        - Dimensionality reduction (e.g., Principal Component Analysis).\n",
        "        - Model training and hyperparameter tuning with GridSearchCV.\n",
        "          \n",
        "- Pyspatialml\n",
        "This library offers tools for applying machine learning algorithms to predict values across raster grids. Pyspatialml is highly suited for tasks involving spatial interpolation, such as predicting environmental variables across a landscape.\n",
        "       \n",
        "- Geowombat\n",
        "A library designed to streamline geospatial workflows by integrating raster data manipulation with machine learning workflows. Geowombat supports large-scale raster operations and enables efficient model fitting and prediction directly on raster grids, making it suitable for tasks like habitat suitability modeling and land cover classification."
      ],
      "metadata": {
        "id": "5NUxSuVVSzDW"
      }
    },
    {
      "cell_type": "markdown",
      "source": [
        "### Installing Python libraries\n",
        "Google Colab comes pre-installed with many packages. You can check the existing libraries using:"
      ],
      "metadata": {
        "id": "g7_70mZPQFo4"
      }
    },
    {
      "cell_type": "code",
      "source": [
        "# Check pre-installed libraries\n",
        "!pip list"
      ],
      "metadata": {
        "id": "8G6n8N_xQ-kW"
      },
      "execution_count": null,
      "outputs": []
    },
    {
      "cell_type": "markdown",
      "source": [
        "If you need libraries not included by default, install them using !pip install. For example:"
      ],
      "metadata": {
        "id": "TZV5qMvWWQ2D"
      }
    },
    {
      "cell_type": "code",
      "source": [
        "# Install rasterio library\n",
        "!pip install rasterio"
      ],
      "metadata": {
        "id": "pLzRheifROM1"
      },
      "execution_count": null,
      "outputs": []
    },
    {
      "cell_type": "markdown",
      "source": [
        "You can also install multiple packages using one command:  "
      ],
      "metadata": {
        "id": "daiNF7aZRR7d"
      }
    },
    {
      "cell_type": "code",
      "source": [
        "# Install multiple packages\n",
        "!pip install rasterio earthpy pyspatialml geowombat"
      ],
      "metadata": {
        "id": "vlB50J2KRWjE"
      },
      "execution_count": null,
      "outputs": []
    },
    {
      "cell_type": "markdown",
      "source": [
        "To install a specific version of a library (helpful for compatibility):  "
      ],
      "metadata": {
        "id": "DqOUAaneRwfI"
      }
    },
    {
      "cell_type": "code",
      "source": [
        "# Install package to ensure compability\n",
        "!pip install package_name==1.2.3"
      ],
      "metadata": {
        "id": "1f2O1yyYRzwA"
      },
      "execution_count": null,
      "outputs": []
    },
    {
      "cell_type": "markdown",
      "source": [
        "After installation, import the libraries into your notebook."
      ],
      "metadata": {
        "id": "kBf539nSR8y7"
      }
    },
    {
      "cell_type": "code",
      "source": [
        "# Import libraries\n",
        "import numpy as np\n",
        "import pandas as pd\n",
        "\n",
        "# Sample DataFrame\n",
        "data = {'Column1': [1, 2, 3], 'Column2': [4, 5, 6]}\n",
        "df = pd.DataFrame(data)\n",
        "print(df)"
      ],
      "metadata": {
        "id": "yqbirWB2SEe5"
      },
      "execution_count": null,
      "outputs": []
    },
    {
      "cell_type": "markdown",
      "source": [
        "### Accessing files\n",
        "You can upload files directly by clicking on the File icon on the left sidebar. Then upload files using the Upload button.Alternatively, you can access Google Drive."
      ],
      "metadata": {
        "id": "iCkSYKtQSIuO"
      }
    },
    {
      "cell_type": "code",
      "source": [
        "# Mount Google Drive\n",
        "from google.colab import drive\n",
        "drive.mount('/content/drive')"
      ],
      "metadata": {
        "id": "fVpzoCp4Sbbv"
      },
      "execution_count": null,
      "outputs": []
    },
    {
      "cell_type": "markdown",
      "source": [
        "### Save your work\n",
        "Your notebook is automatically saved in Google Drive. You can also export the notebook as .ipynb (Jupyter Notebook format) or .py (Python script). Finally, you can share the notebook with collaborators using the Share button in the top-right corner."
      ],
      "metadata": {
        "id": "euAaQY6lSoGg"
      }
    },
    {
      "cell_type": "markdown",
      "source": [
        "## Important considerations\n",
        "1. Temporary nature\n",
        "Colab environments reset when you reconnect or start a new session, requiring packages to be reinstalled.  \n",
        "2. Persistent solutions\n",
        "For persistent environments, consider alternatives like AWS SageMaker or installing libraries in your Google Drive. Note that installing in Drive does not fully solve dependency persistence issues.  \n",
        "3. Reproducibility\n",
        "Install packages at the beginning of your notebook and specify exact versions in your requirements file for consistent results."
      ],
      "metadata": {
        "id": "Qv5itV8oTBsd"
      }
    }
  ]
}