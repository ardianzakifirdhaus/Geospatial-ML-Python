{
  "nbformat": 4,
  "nbformat_minor": 0,
  "metadata": {
    "colab": {
      "provenance": []
    },
    "kernelspec": {
      "name": "python3",
      "display_name": "Python 3"
    },
    "language_info": {
      "name": "python"
    }
  },
  "cells": [
    {
      "cell_type": "markdown",
      "source": [
        "# **Lab 7a: Explainable Machine Learning in Geospatial Analysis: Land Cover Classification**\n",
        "\n",
        "## Introduction\n",
        "In Lab 5b, we applied a random forest classifier to classify optical imagery from Sentinel-2 and SAR imagery from ALOS PALSAR ScanSAR (HV polarization). The objective was to enhance land cover classification accuracy by integrating optical and SAR data.\n",
        "\n",
        "To better understand the performance of the Random Forest model, we will now employ explainable machine learning (XML) techniques. We will use the Shapley Additive exPlanations (SHAP) technique, to provide insights into how the random forest model makes predictions.\n",
        "\n",
        "Explainable ML methods are essential for interpreting the decision-making processes of complex or \"black-box\" models. They help identify the most influential input features driving model predictions, thereby enhancing the transparency, interpretability, and trustworthiness of machine learning outcomes."
      ],
      "metadata": {
        "id": "9enVF7go_Y6x"
      }
    },
    {
      "cell_type": "markdown",
      "source": [
        "## Imports and Setup\n",
        "### Import libraries\n",
        "Import the necessary libraries (pandas, numpy, scikit-learn, rasterio, etc.)."
      ],
      "metadata": {
        "id": "-pwDPkalAvRb"
      }
    },
    {
      "cell_type": "code",
      "source": [
        "# Import libraries\n",
        "import pandas as pd\n",
        "from sklearn.model_selection import train_test_split\n",
        "from sklearn.ensemble import RandomForestClassifier\n",
        "import matplotlib.pyplot as plt\n",
        "from matplotlib.colors import from_levels_and_colors\n",
        "import seaborn as sns\n",
        "import joblib\n",
        "import shap"
      ],
      "metadata": {
        "id": "F6bfz1KZzA-J"
      },
      "execution_count": null,
      "outputs": []
    },
    {
      "cell_type": "markdown",
      "source": [
        "### Mount Google Drive\n",
        "Next, mount your Google Drive. You will be prompted to authorize access to your Google Drive. Once mounted, you can read/write files in /content/drive/MyDrive."
      ],
      "metadata": {
        "id": "bzVfa9mtzRMO"
      }
    },
    {
      "cell_type": "code",
      "source": [
        "# Mount Google Drive\n",
        "from google.colab import drive\n",
        "drive.mount('/content/drive')"
      ],
      "metadata": {
        "colab": {
          "base_uri": "https://localhost:8080/"
        },
        "id": "VXvi8JvIzRmY",
        "outputId": "d569e979-1fe0-45e5-82ef-44f8757d55a8"
      },
      "execution_count": null,
      "outputs": [
        {
          "output_type": "stream",
          "name": "stdout",
          "text": [
            "Drive already mounted at /content/drive; to attempt to forcibly remount, call drive.mount(\"/content/drive\", force_remount=True).\n"
          ]
        }
      ]
    },
    {
      "cell_type": "markdown",
      "source": [
        "### Define paths and variables\n",
        "Define the the paths to access your own directory structure in Google Drive. In this tutorial, we use a CSV training dataset (Bul_TrainingData_2024.csv) containing pixel values and their corresponding classes. We will also define the paths to the training datasets and random forest model.\n"
      ],
      "metadata": {
        "id": "l0HWzfHGzVCH"
      }
    },
    {
      "cell_type": "code",
      "source": [
        "# Define path that contains the datasets\n",
        "Sample_Path = '/content/drive/MyDrive/Bulawayo_Dataset_2024/Bul_TA_S2_Pal_2024.csv'\n",
        "MODEL_PATH = '/content/drive/MyDrive/Bulawayo_Dataset_2024/best_rf_model.pkl'"
      ],
      "metadata": {
        "id": "Vj2kFuhMzVd3"
      },
      "execution_count": null,
      "outputs": []
    },
    {
      "cell_type": "markdown",
      "source": [
        "### Define target and predictor variables\n",
        "Next, define and specify the overall structure of the land cover classification task. Bands lists the Sentinel-2 spectral bands (e.g., B2, B3, B4) used as input features (predictors) for the model, while LC indicates the target column named “class.” Classes is a list of integer codes that the model will learn to predict, and N_Classes denotes the total number of these categories. The Names list provides descriptive labels (e.g., “Bare area,” “Built-up”) that match each code, making it easier to interpret results. Finally, Palette is a set of hex color codes for visualizing each class in plots or exported maps."
      ],
      "metadata": {
        "id": "xaZUI5eOz8PF"
      }
    },
    {
      "cell_type": "code",
      "source": [
        "# Define target and predictor variables\n",
        "features = ['B2', 'B3', 'B4', 'B5', 'B6', 'B7', 'B8', 'B11', 'B12', 'HV']  # Feature columns\n",
        "label = ['class']\n",
        "\n",
        "Classes = [0, 1, 2, 3, 4, 5]\n",
        "N_Classes = 6\n",
        "Names   = [\"Bare area\", \"Built-up\", \"Cropland\", \"Grassland\", \"Woodland\", \"Water\"]\n",
        "Palette = [\n",
        "    '#D3D3D3',  # grey for class 0 (Bare area)\n",
        "    '#FF0000',  # red for class 1 (Built-up)\n",
        "    '#FFD700',  # gold for class 2 (Cropland)\n",
        "    '#ADFF2F',  # greenyellow for class 3 (Grassland)\n",
        "    '#006400',  # darkgreen for class 4 (Woodland)\n",
        "    '#0000FF'   # blue for class 5 (Water)\n",
        "]"
      ],
      "metadata": {
        "id": "WjFAe4hjM2VS"
      },
      "execution_count": null,
      "outputs": []
    },
    {
      "cell_type": "markdown",
      "source": [
        "##  Load and Prepare Training Data\n",
        "Next, load and prepare the training data. The training data is in a CSV format with columns for each band (B2, B3, etc.) and a class column (land cover type)."
      ],
      "metadata": {
        "id": "ZmtsZJvI3q4C"
      }
    },
    {
      "cell_type": "code",
      "source": [
        "# Load training data as a DataFrame\n",
        "df = pd.read_csv(Sample_Path)\n",
        "\n",
        "# Inspect first few rows\n",
        "print(df.head())\n",
        "\n",
        "# Separate features (X) and label (y)\n",
        "X = df[features]\n",
        "y = df['class']\n",
        "\n",
        "# Ensure no missing values\n",
        "print(f\"Missing values in features: {X.isnull().sum().sum()}\")\n",
        "print(f\"Missing values in label: {y.isnull().sum()}\")\n",
        "\n",
        "# Split into training and testing subsets\n",
        "# (you can also do cross-validation if you prefer)\n",
        "X_train, X_test, y_train, y_test = train_test_split(\n",
        "    X, y, test_size=0.3, random_state=42, stratify=y\n",
        ")\n",
        "\n",
        "print(f\"Training samples: {X_train.shape[0]}\")\n",
        "print(f\"Testing samples: {X_test.shape[0]}\")"
      ],
      "metadata": {
        "colab": {
          "base_uri": "https://localhost:8080/"
        },
        "id": "TcAThBNC3rQI",
        "outputId": "697f2fe6-8264-4744-fad6-b70688abb4eb"
      },
      "execution_count": null,
      "outputs": [
        {
          "output_type": "stream",
          "name": "stdout",
          "text": [
            "   system:index      B11      B12      B2       B3       B4      B5      B6  \\\n",
            "0             0  0.18410  0.13230  0.0379  0.04790  0.05980  0.0883  0.1197   \n",
            "1             1  0.26330  0.19170  0.0490  0.06770  0.08980  0.1253  0.1636   \n",
            "2             2  0.15300  0.10990  0.0322  0.04770  0.04680  0.0795  0.1322   \n",
            "3             3  0.43365  0.38825  0.1145  0.16795  0.22625  0.2572  0.2794   \n",
            "4             4  0.38520  0.33210  0.0947  0.12220  0.16200  0.1874  0.1994   \n",
            "\n",
            "       B7      B8        HV  class                                    .geo  \n",
            "0  0.1346  0.1416  0.322125      0  {\"type\":\"MultiPoint\",\"coordinates\":[]}  \n",
            "1  0.1854  0.1985  0.343250      0  {\"type\":\"MultiPoint\",\"coordinates\":[]}  \n",
            "2  0.1466  0.1577  0.316500      0  {\"type\":\"MultiPoint\",\"coordinates\":[]}  \n",
            "3  0.2934  0.2926  0.206125      0  {\"type\":\"MultiPoint\",\"coordinates\":[]}  \n",
            "4  0.2170  0.2266  0.150375      0  {\"type\":\"MultiPoint\",\"coordinates\":[]}  \n",
            "Missing values in features: 0\n",
            "Missing values in label: 0\n",
            "Training samples: 17992\n",
            "Testing samples: 7711\n"
          ]
        }
      ]
    },
    {
      "cell_type": "markdown",
      "source": [
        "## Perform Explainable Machine Learning (xML)\n",
        "### Introduction\n",
        "We will use Explainable Machine Learning (xML) methods such as  SHAP (Shapley Additive exPlanations) and surrogate models to gain insights in the random forest model. These approaches provide valuable insights into the inner workings of various machine learning models, making them versatile tools for comprehending these models.\n",
        "\n",
        "Let's start by loading and extracting the saved random forest model from the dictionary."
      ],
      "metadata": {
        "id": "HKr7p6Snh51x"
      }
    },
    {
      "cell_type": "code",
      "source": [
        "package = joblib.load(MODEL_PATH)\n",
        "rf_model = package[\"model\"]\n",
        "features = package[\"features\"]\n",
        "label = package[\"label\"]\n",
        "\n",
        "print(\"Model loaded successfully.\")"
      ],
      "metadata": {
        "colab": {
          "base_uri": "https://localhost:8080/"
        },
        "id": "v82c5DFZh-f2",
        "outputId": "1844a6ac-1f55-4bba-ba59-1019a708d31a"
      },
      "execution_count": null,
      "outputs": [
        {
          "output_type": "stream",
          "name": "stdout",
          "text": [
            "Model loaded successfully.\n"
          ]
        }
      ]
    },
    {
      "cell_type": "markdown",
      "source": [
        "## SHAP (SHapley Additive exPlanations) method\n",
        "Next, we will use the SHAP method. The SHAP (SHapley Additive exPlanations) method is based on the shapley values, which is a concept from cooperative game theory proposed by Lloyd Shapley (1953). It has been adapted for machine learning model interpretability. In the context of explainable machine learning (xML), shapley values quantify the contribution of each feature to a specific prediction by averaging the marginal contributions it makes when combined with all possible subsets of features. In other words, Shapley Values provide a fair allocation of the \"credit\" for a prediction among the different features. They offer a holistic understanding of feature importance in machine learning models. To use SHAP in combination with the RandomForestRegressor, we can leverage the shap library in Python.\n",
        "\n",
        "Let's create an explainer for the RF model. Explainer prints useful information, especially for resolving potential errors."
      ],
      "metadata": {
        "id": "x_GS7_ypiNx-"
      }
    },
    {
      "cell_type": "code",
      "source": [
        "# Sample 1,000 rows from the training data for explainability\n",
        "X_train_sample = X_train.sample(n=1000, random_state=42)\n",
        "\n",
        "# Create SHAP explainer using the smaller sample\n",
        "explainer = shap.TreeExplainer(rf_model)\n",
        "\n",
        "# Compute SHAP values for the sample only\n",
        "shap_values = explainer(X_train_sample)"
      ],
      "metadata": {
        "id": "4v2HKbvmiTcz"
      },
      "execution_count": null,
      "outputs": []
    },
    {
      "cell_type": "markdown",
      "source": [
        "### SHAP summary plot\n",
        "Finally, display SHAP summary plot to gain insights into the random forest model for only 1000 pixel samples."
      ],
      "metadata": {
        "id": "oabXRnQRCZoV"
      }
    },
    {
      "cell_type": "code",
      "source": [
        "\n",
        "from matplotlib.colors import ListedColormap\n",
        "\n",
        "Palette = [\n",
        "    '#FFD700',  # gold\n",
        "    '#ADFF2F',  # greenyellow\n",
        "    '#FF0000',  # red\n",
        "    '#D3D3D3',  # grey\n",
        "    '#006400',  # darkgreen\n",
        "    '#0000FF'   # blue\n",
        "]\n",
        "\n",
        "# Create a continuous colormap from your discrete list\n",
        "my_cmap = ListedColormap(Palette)\n",
        "\n",
        "shap.summary_plot(\n",
        "    shap_values,\n",
        "    X_train_sample,\n",
        "    feature_names=features,\n",
        "    class_names=Names,\n",
        "    color=my_cmap\n",
        ")"
      ],
      "metadata": {
        "colab": {
          "base_uri": "https://localhost:8080/",
          "height": 557
        },
        "id": "BAioYmwACZ-m",
        "outputId": "549527cc-e440-459b-aef2-26d76e20dcfb"
      },
      "execution_count": null,
      "outputs": [
        {
          "output_type": "display_data",
          "data": {
            "text/plain": [
              "<Figure size 800x550 with 1 Axes>"
            ],
            "image/png": "[encoded data removed]"
          },
          "metadata": {}
        }
      ]
    }
  ]
}